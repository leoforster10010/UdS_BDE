{
 "cells": [
  {
   "cell_type": "markdown",
   "metadata": {},
   "source": [
    "## 4 PhotoDB and SQL (5 points)\n",
    "\n",
    "Copyright Jens Dittrich, Christian Schön & Joris Nix, [Big Data Analytics Group](https://bigdata.uni-saarland.de/), [CC-BY-SA](https://creativecommons.org/licenses/by-sa/4.0/legalcode)"
   ]
  },
  {
   "cell_type": "code",
   "execution_count": 1,
   "metadata": {},
   "outputs": [],
   "source": [
    "import duckdb"
   ]
  },
  {
   "cell_type": "markdown",
   "metadata": {},
   "source": [
    "## Load Data\n",
    "\n",
    "Create database tables."
   ]
  },
  {
   "cell_type": "code",
   "execution_count": 2,
   "metadata": {},
   "outputs": [],
   "source": [
    "duckdb.sql(\"\"\"\n",
    "CREATE TABLE persons (\n",
    "    id INTEGER PRIMARY KEY,\n",
    "    lastname TEXT,\n",
    "    firstname TEXT,\n",
    "    birthday TEXT\n",
    ");\"\"\")\n",
    "\n",
    "duckdb.sql(\"\"\"\n",
    "CREATE TABLE employees (\n",
    "    personId INTEGER PRIMARY KEY,\n",
    "    salary INTEGER,\n",
    "    experience INTEGER,\n",
    "    FOREIGN KEY(personId) REFERENCES persons(id)\n",
    ");\"\"\")\n",
    "\n",
    "duckdb.sql(\"\"\"\n",
    "CREATE TABLE seniors (\n",
    "    employeeId INTEGER PRIMARY KEY,\n",
    "    numGreyHairs INTEGER,\n",
    "    bonus INTEGER,\n",
    "    FOREIGN KEY(employeeId) REFERENCES employees(personId)\n",
    ");\"\"\")\n",
    "\n",
    "duckdb.sql(\"\"\"\n",
    "CREATE TABLE salespersons (\n",
    "    employeeId INTEGER PRIMARY KEY,\n",
    "    areaOfExpertise TEXT,\n",
    "    FOREIGN KEY(employeeId) REFERENCES employees(personId)\n",
    ");\"\"\")\n",
    "\n",
    "duckdb.sql(\"\"\"\n",
    "CREATE TABLE photographers (\n",
    "    employeeId INTEGER PRIMARY KEY,\n",
    "    FOREIGN KEY(employeeId) REFERENCES employees(personId)\n",
    ");\"\"\")\n",
    "\n",
    "duckdb.sql(\"\"\"\n",
    "CREATE TABLE cameras (\n",
    "    id INTEGER PRIMARY KEY,\n",
    "    brand TEXT,\n",
    "    model TEXT\n",
    ");\"\"\")\n",
    "\n",
    "duckdb.sql(\"\"\"\n",
    "CREATE TABLE photos (\n",
    "    id INTEGER PRIMARY KEY,\n",
    "    location TEXT,\n",
    "    unix_time INTEGER,\n",
    "    photographerId INTEGER,\n",
    "    cameraId INTEGER,\n",
    "    FOREIGN KEY(photographerId) REFERENCES photographers(employeeId),\n",
    "    FOREIGN KEY(cameraId) REFERENCES cameras(id)\n",
    ");\"\"\")"
   ]
  },
  {
   "cell_type": "markdown",
   "metadata": {},
   "source": [
    "Import the csv-data into those tables."
   ]
  },
  {
   "cell_type": "code",
   "execution_count": 3,
   "metadata": {},
   "outputs": [],
   "source": [
    "duckdb.sql(\"COPY persons FROM './data/photodb/persons.csv' (FORMAT CSV, DELIMITER ',');\")\n",
    "duckdb.sql(\"COPY employees FROM './data/photodb/employees.csv' (FORMAT CSV, DELIMITER ',');\")\n",
    "duckdb.sql(\"COPY seniors FROM './data/photodb/seniors.csv' (FORMAT CSV, DELIMITER ',');\")\n",
    "duckdb.sql(\"COPY salespersons FROM './data/photodb/salespersons.csv' (FORMAT CSV, DELIMITER ',');\")\n",
    "duckdb.sql(\"COPY photographers FROM './data/photodb/photographers.csv' (FORMAT CSV, DELIMITER ',');\")\n",
    "duckdb.sql(\"COPY cameras FROM './data/photodb/cameras.csv' (FORMAT CSV, DELIMITER ',');\")\n",
    "duckdb.sql(\"COPY photos FROM './data/photodb/photos.csv' (FORMAT CSV, DELIMITER ',');\")"
   ]
  },
  {
   "cell_type": "markdown",
   "metadata": {},
   "source": [
    "### Query 1\n",
    "\n",
    "The bonus of each senior photographer, that has taken more than two photos with a camera of the brand `Nikon`."
   ]
  },
  {
   "cell_type": "code",
   "execution_count": 4,
   "metadata": {
    "scrolled": false
   },
   "outputs": [],
   "source": [
    "duckdb.sql(\"DROP VIEW IF EXISTS q1;\")\n",
    "\n",
    "duckdb.sql(\"\"\"\n",
    "CREATE VIEW q1 AS\n",
    "    select s.bonus\n",
    "    from seniors as s\n",
    "    join employees as e on s.employeeId = e.personId\n",
    "    join persons as pe on e.personId = pe.id\n",
    "    join photographers as p on e.personId = p.employeeId\n",
    "    join photos as ph on p.employeeId = ph.photographerId\n",
    "    join cameras as c on ph.cameraId = c.id\n",
    "    where c.brand = 'Nikon'\n",
    "    group by pe.id, pe.firstname, pe.lastname, s.bonus\n",
    "    having count(ph.id) > 2\n",
    "    ;\n",
    "\"\"\")"
   ]
  },
  {
   "cell_type": "markdown",
   "metadata": {},
   "source": [
    "Printing output for Query 1"
   ]
  },
  {
   "cell_type": "code",
   "execution_count": 5,
   "metadata": {},
   "outputs": [
    {
     "data": {
      "text/plain": [
       "┌───────┐\n",
       "│ bonus │\n",
       "│ int32 │\n",
       "├───────┤\n",
       "│ 38000 │\n",
       "│ 55000 │\n",
       "└───────┘"
      ]
     },
     "execution_count": 5,
     "metadata": {},
     "output_type": "execute_result"
    }
   ],
   "source": [
    "duckdb.sql(\"\"\"\n",
    "SELECT *\n",
    "FROM q1\"\"\")"
   ]
  },
  {
   "cell_type": "code",
   "execution_count": 6,
   "metadata": {},
   "outputs": [
    {
     "data": {
      "text/plain": [
       "┌────────┐\n",
       "│ bonus  │\n",
       "│ int32  │\n",
       "├────────┤\n",
       "│ 0 rows │\n",
       "└────────┘"
      ]
     },
     "execution_count": 6,
     "metadata": {},
     "output_type": "execute_result"
    }
   ],
   "source": [
    "## TEST\n",
    "## Prepare the necessary table for result comparison and load the data\n",
    "## You need to execute this cell only once\n",
    "## Repeated execution will not affect test results, but lead to error messages as you try to import the same data multiple times\n",
    "\n",
    "duckdb.sql(\"\"\"\n",
    "DROP TABLE IF EXISTS q1_reference;\n",
    "CREATE TABLE q1_reference (\n",
    "    bonus INTEGER\n",
    ");\"\"\")\n",
    "\n",
    "## import query results\n",
    "duckdb.sql(\"COPY q1_reference FROM './data/photodb/tests/q1.csv' (FORMAT CSV, DELIMITER ',');\")\n",
    "\n",
    "\n",
    "## Note that this test compares the resulting tuples and does not ensure that your query is semantically correct.\n",
    "## It also does not consider duplicates.\n",
    "\n",
    "## compare query results\n",
    "duckdb.sql(\"\"\"\n",
    "SELECT *\n",
    "FROM (SELECT * FROM q1\n",
    "      EXCEPT\n",
    "      SELECT * FROM q1_reference)\n",
    "UNION\n",
    "SELECT *\n",
    "FROM (SELECT * FROM q1_reference\n",
    "      EXCEPT\n",
    "      SELECT * FROM q1);\"\"\")\n",
    "## We expect an empty result."
   ]
  },
  {
   "cell_type": "markdown",
   "metadata": {},
   "source": [
    "### Query 2"
   ]
  },
  {
   "cell_type": "markdown",
   "metadata": {},
   "source": [
    "The brands of the cameras that were used by a photographer that earns a higher salary than the average of all employees. Order your output descendingly according to the brand and only output the first 2 tuples."
   ]
  },
  {
   "cell_type": "code",
   "execution_count": 7,
   "metadata": {},
   "outputs": [],
   "source": [
    "duckdb.sql(\"DROP VIEW IF EXISTS q2;\")\n",
    "\n",
    "duckdb.sql(\"\"\"\n",
    "CREATE VIEW q2 AS\n",
    "    select distinct c.brand\n",
    "    from cameras as c\n",
    "    join photos as ph on c.id = ph.cameraId\n",
    "    join photographers as p on ph.photographerId = p.employeeId\n",
    "    join employees as e on p.employeeId = e.personId\n",
    "    where e.salary > (\n",
    "        select avg(e.salary)\n",
    "        from employees as e\n",
    "    )\n",
    "    order by c.brand desc\n",
    "    limit 2\n",
    "    ;\n",
    "\"\"\")"
   ]
  },
  {
   "cell_type": "markdown",
   "metadata": {},
   "source": [
    "Printing Output of Query 2"
   ]
  },
  {
   "cell_type": "code",
   "execution_count": 8,
   "metadata": {},
   "outputs": [
    {
     "data": {
      "text/plain": [
       "┌─────────┐\n",
       "│  brand  │\n",
       "│ varchar │\n",
       "├─────────┤\n",
       "│ Nikon   │\n",
       "│ Leica   │\n",
       "└─────────┘"
      ]
     },
     "execution_count": 8,
     "metadata": {},
     "output_type": "execute_result"
    }
   ],
   "source": [
    "duckdb.sql(\"\"\"\n",
    "SELECT *\n",
    "FROM q2\"\"\")"
   ]
  },
  {
   "cell_type": "code",
   "execution_count": 9,
   "metadata": {},
   "outputs": [
    {
     "data": {
      "text/plain": [
       "┌─────────┐\n",
       "│  brand  │\n",
       "│ varchar │\n",
       "├─────────┤\n",
       "│ 0 rows  │\n",
       "└─────────┘"
      ]
     },
     "execution_count": 9,
     "metadata": {},
     "output_type": "execute_result"
    }
   ],
   "source": [
    "## TEST\n",
    "## Prepare the necessary table for result comparison and load the data\n",
    "## You need to execute this cell only once\n",
    "## Repeated execution will not affect test results, but lead to error messages as you try to import the same data multiple times\n",
    "\n",
    "duckdb.sql(\"\"\"\n",
    "DROP TABLE IF EXISTS q2_reference;\n",
    "CREATE TABLE q2_reference (\n",
    "    brand TEXT PRIMARY KEY\n",
    ");\"\"\")\n",
    "\n",
    "## import query results\n",
    "duckdb.sql(\"COPY q2_reference FROM './data/photodb/tests/q2.csv' (FORMAT CSV, DELIMITER ',');\")\n",
    "\n",
    "## Note that this test compares the resulting tuples and does not ensure that your query is semantically correct.\n",
    "## It also does not consider duplicates.\n",
    "\n",
    "## compare query results\n",
    "\n",
    "duckdb.sql(\"\"\"\n",
    "SELECT *\n",
    "FROM (SELECT * FROM q2\n",
    "      EXCEPT\n",
    "      SELECT * FROM q2_reference)\n",
    "UNION\n",
    "SELECT *\n",
    "FROM (SELECT * FROM q2_reference\n",
    "      EXCEPT\n",
    "      SELECT * FROM q2);\"\"\")\n",
    "## We expect an empty result."
   ]
  }
 ],
 "metadata": {
  "kernelspec": {
   "display_name": "Python 3 (ipykernel)",
   "language": "python",
   "name": "python3"
  },
  "language_info": {
   "codemirror_mode": {
    "name": "ipython",
    "version": 3
   },
   "file_extension": ".py",
   "mimetype": "text/x-python",
   "name": "python",
   "nbconvert_exporter": "python",
   "pygments_lexer": "ipython3",
   "version": "3.10.12"
  },
  "varInspector": {
   "cols": {
    "lenName": 16,
    "lenType": 16,
    "lenVar": 40
   },
   "kernels_config": {
    "python": {
     "delete_cmd_postfix": "",
     "delete_cmd_prefix": "del ",
     "library": "var_list.py",
     "varRefreshCmd": "print(var_dic_list())"
    },
    "r": {
     "delete_cmd_postfix": ") ",
     "delete_cmd_prefix": "rm(",
     "library": "var_list.r",
     "varRefreshCmd": "cat(var_dic_list()) "
    }
   },
   "types_to_exclude": [
    "module",
    "function",
    "builtin_function_or_method",
    "instance",
    "_Feature"
   ],
   "window_display": false
  }
 },
 "nbformat": 4,
 "nbformat_minor": 2
}
