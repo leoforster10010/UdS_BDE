{
 "cells": [
  {
   "cell_type": "markdown",
   "id": "deabc56c",
   "metadata": {},
   "source": [
    "# Recursive Inverted Index (5 Points)\n",
    "\n",
    "Copyright [Big Data Analytics Group](https://bigdata.uni-saarland.de/), [CC-BY-SA](https://creativecommons.org/licenses/by-sa/4.0/legalcode)"
   ]
  },
  {
   "cell_type": "markdown",
   "id": "ce067d49",
   "metadata": {},
   "source": [
    "In this exercise, you will implement an [inverted index](https://en.wikipedia.org/wiki/Inverted_index). An inverted index is a mapping from the content (e.g. words) of\n",
    "a document to the document itself. In addition, in this exercise we radix-partition the words, i.e. we _recursively_ partition the words characterwise similar to the notebook [Indexing by Recursive External Partitioning.ipynb](https://github.com/BigDataAnalyticsGroup/bigdataengineering/blob/master/Indexing%20by%20Recursive%20External%20Partitioning.ipynb). This structure allows us to easily search for documents that contain a word that exactly matches a given search word, but also words that start with the given search word (prefix search). Implement the following functions of the class `RecursiveInvertedIndex` in the attached notebook:\n",
    "* `__init__`: This is the constructor of the class, which takes a list of documents names and creates the\n",
    "    recursive, inverted index based on these documents. Your words must be radix-partitioned. You can use the helper\n",
    "        function`get_words_from_document(document_name)`, which takes a document name as input and then\n",
    "        returns a set of words contained in the document. Note, that all words are converted to lowercase.\n",
    "* `search(word)`: This function uses the inverted index to return a list of all matching documents given the key `word`. Matching here means that the search word either exactly matches one of the words in a document, or at least one of the words in a document starts with the search word. If no documents exist for a search word, an empty set is returned. Otherwise, the set of all matching documents is returned. Your implementation should be case-insensitive.\n",
    "\n",
    "Your implementation must pass all provided unit tests without hardcoding!"
   ]
  },
  {
   "cell_type": "code",
   "execution_count": 2,
   "id": "4eff7171",
   "metadata": {},
   "outputs": [],
   "source": [
    "def get_words_from_document(document_name):\n",
    "    with open(document_name) as f:\n",
    "        text = f.read().replace('.', '')\n",
    "        word_list = text.split(\" \")\n",
    "        words = set([word.lower() for word in word_list])\n",
    "        return words"
   ]
  },
  {
   "cell_type": "code",
   "execution_count": 3,
   "id": "d4a46071",
   "metadata": {},
   "outputs": [],
   "source": [
    "# A class implementing a recursive, inverted index\n",
    "class RecursiveInvertedIndex:\n",
    "\n",
    "    # Dictionary to store the word-to-document mapping\n",
    "    word_dict = {}\n",
    "\n",
    "    def create_key_values(self, file_list):\n",
    "        \"\"\"\n",
    "        Create a dictionary where each key is a word and the value is a set of filenames \n",
    "        that contain the word.\n",
    "            \n",
    "        Returns:\n",
    "            dict: Dictionary with words as keys and sets of filenames as values.\n",
    "        \"\"\"\n",
    "        output_dict = {}\n",
    "\n",
    "        # Process each file in the file list\n",
    "        for file in file_list:\n",
    "            words = get_words_from_document(file)  # Extract words from the document\n",
    "            for word in words:\n",
    "                if word not in output_dict:\n",
    "                    output_dict[word] = set()  # Initialize set for new word\n",
    "                output_dict[word].add(file)  # Add the file to the set for the word\n",
    "\n",
    "        return output_dict\n",
    "\n",
    "        \n",
    "    def radix_indexer(self):\n",
    "        \"\"\"\n",
    "        Create a recursive index by generating substrings of words and mapping them \n",
    "        to the sets of documents containing the original words.\n",
    "        \"\"\"\n",
    "        temp_word_dict = {}\n",
    "        word_dict = self.word_dict\n",
    "\n",
    "        # Iterate through each word and its associated document set\n",
    "        for word, doc_set in word_dict.items():\n",
    "            # Generate all substrings of the word\n",
    "            for i in range(1, len(word) + 1):\n",
    "                substring = word[:i]  # Create a substring from the beginning to the ith character\n",
    "                if substring not in temp_word_dict:\n",
    "                    temp_word_dict[substring] = set()  # Initialize set for new substring\n",
    "                temp_word_dict[substring].update(doc_set)  # Add the document set to the substring\n",
    "\n",
    "        self.word_dict = temp_word_dict  # Update the word_dict with the new recursive index\n",
    "\n",
    "    def __init__(self, document_names):\n",
    "        \"\"\"\n",
    "        Initialize the RecursiveInvertedIndex with a list of document names. (Constructor)\n",
    "        \"\"\"\n",
    "        self.word_dict = self.create_key_values(document_names)  # Create the initial word-to-document mapping\n",
    "        self.radix_indexer()  # Perform the radix indexing to generate substrings\n",
    "\n",
    "    def search(self, word): \n",
    "        \"\"\"\n",
    "        Search for documents containing the exact word or any word that starts with the given word.\n",
    "        \n",
    "        Returns:\n",
    "            set: Set of filenames containing the word or any word starting with the given word.\n",
    "        \"\"\"\n",
    "        documents = set()\n",
    "        for key, value in self.word_dict.items():\n",
    "            if word.lower() == key.lower():\n",
    "                documents.update(value)  # Add documents containing the word to the result set\n",
    "        return documents"
   ]
  },
  {
   "cell_type": "markdown",
   "id": "785f0ca3",
   "metadata": {},
   "source": [
    "# Hier nur Ausgabe als Test"
   ]
  },
  {
   "cell_type": "code",
   "execution_count": 4,
   "id": "85e35558",
   "metadata": {},
   "outputs": [
    {
     "name": "stdout",
     "output_type": "stream",
     "text": [
      "i -> data/indexes/test_file_1.txt, data/indexes/test_file_3.txt, data/indexes/test_file_2.txt\n",
      "a -> data/indexes/test_file_1.txt, data/indexes/test_file_3.txt\n",
      "b -> data/indexes/test_file_1.txt, data/indexes/test_file_3.txt\n",
      "bd -> data/indexes/test_file_1.txt, data/indexes/test_file_3.txt\n",
      "bde -> data/indexes/test_file_1.txt, data/indexes/test_file_3.txt\n",
      "c -> data/indexes/test_file_1.txt, data/indexes/test_file_2.txt\n",
      "co -> data/indexes/test_file_1.txt, data/indexes/test_file_2.txt\n",
      "cou -> data/indexes/test_file_1.txt, data/indexes/test_file_2.txt\n",
      "cour -> data/indexes/test_file_1.txt, data/indexes/test_file_2.txt\n",
      "cours -> data/indexes/test_file_1.txt, data/indexes/test_file_2.txt\n",
      "course -> data/indexes/test_file_1.txt, data/indexes/test_file_2.txt\n",
      "l -> data/indexes/test_file_1.txt, data/indexes/test_file_2.txt\n",
      "lo -> data/indexes/test_file_1.txt\n",
      "lot -> data/indexes/test_file_1.txt\n",
      "in -> data/indexes/test_file_1.txt, data/indexes/test_file_2.txt\n",
      "t -> data/indexes/test_file_1.txt, data/indexes/test_file_3.txt, data/indexes/test_file_2.txt\n",
      "th -> data/indexes/test_file_1.txt, data/indexes/test_file_2.txt\n",
      "the -> data/indexes/test_file_1.txt, data/indexes/test_file_2.txt\n",
      "le -> data/indexes/test_file_1.txt, data/indexes/test_file_2.txt\n",
      "lea -> data/indexes/test_file_1.txt, data/indexes/test_file_2.txt\n",
      "lear -> data/indexes/test_file_1.txt, data/indexes/test_file_2.txt\n",
      "learn -> data/indexes/test_file_1.txt, data/indexes/test_file_2.txt\n",
      "learne -> data/indexes/test_file_1.txt, data/indexes/test_file_2.txt\n",
      "learned -> data/indexes/test_file_1.txt, data/indexes/test_file_2.txt\n",
      "d -> data/indexes/test_file_3.txt, data/indexes/test_file_2.txt\n",
      "db -> data/indexes/test_file_3.txt, data/indexes/test_file_2.txt\n",
      "dbs -> data/indexes/test_file_3.txt, data/indexes/test_file_2.txt\n",
      "dbsy -> data/indexes/test_file_3.txt, data/indexes/test_file_2.txt\n",
      "dbsys -> data/indexes/test_file_3.txt, data/indexes/test_file_2.txt\n",
      "e -> data/indexes/test_file_2.txt\n",
      "ev -> data/indexes/test_file_2.txt\n",
      "eve -> data/indexes/test_file_2.txt\n",
      "even -> data/indexes/test_file_2.txt\n",
      "m -> data/indexes/test_file_2.txt\n",
      "mo -> data/indexes/test_file_2.txt\n",
      "mor -> data/indexes/test_file_2.txt\n",
      "more -> data/indexes/test_file_2.txt\n",
      "id -> data/indexes/test_file_3.txt\n",
      "ide -> data/indexes/test_file_3.txt\n",
      "idea -> data/indexes/test_file_3.txt\n",
      "ta -> data/indexes/test_file_3.txt\n",
      "tak -> data/indexes/test_file_3.txt\n",
      "taki -> data/indexes/test_file_3.txt\n",
      "takin -> data/indexes/test_file_3.txt\n",
      "taking -> data/indexes/test_file_3.txt\n",
      "be -> data/indexes/test_file_3.txt\n",
      "bef -> data/indexes/test_file_3.txt\n",
      "befo -> data/indexes/test_file_3.txt\n",
      "befor -> data/indexes/test_file_3.txt\n",
      "before -> data/indexes/test_file_3.txt\n",
      "o -> data/indexes/test_file_3.txt\n",
      "ov -> data/indexes/test_file_3.txt\n",
      "ove -> data/indexes/test_file_3.txt\n",
      "over -> data/indexes/test_file_3.txt\n",
      "overa -> data/indexes/test_file_3.txt\n",
      "overal -> data/indexes/test_file_3.txt\n",
      "overall -> data/indexes/test_file_3.txt\n",
      "g -> data/indexes/test_file_3.txt\n",
      "go -> data/indexes/test_file_3.txt\n",
      "goo -> data/indexes/test_file_3.txt\n",
      "good -> data/indexes/test_file_3.txt\n",
      "take -> data/indexes/test_file_3.txt\n",
      "to -> data/indexes/test_file_3.txt\n",
      "w -> data/indexes/test_file_3.txt\n",
      "wa -> data/indexes/test_file_3.txt\n",
      "was -> data/indexes/test_file_3.txt\n",
      "it -> data/indexes/test_file_3.txt\n"
     ]
    }
   ],
   "source": [
    "test = RecursiveInvertedIndex([\"data/indexes/test_file_1.txt\", \"data/indexes/test_file_2.txt\", \"data/indexes/test_file_3.txt\"])\n",
    "c = test.word_dict\n",
    "for key, value in c.items():\n",
    "    print(key + \" -> \" + \", \".join(map(str, value)))"
   ]
  },
  {
   "cell_type": "markdown",
   "id": "b162d4da",
   "metadata": {},
   "source": [
    "# Hier einfach ein paar Test ausgeführt"
   ]
  },
  {
   "cell_type": "code",
   "execution_count": 8,
   "id": "03d69a65",
   "metadata": {},
   "outputs": [
    {
     "name": "stdout",
     "output_type": "stream",
     "text": [
      "BDE\n",
      "{'data/indexes/test_file_1.txt', 'data/indexes/test_file_3.txt'}\n",
      "DBSys\n",
      "{'data/indexes/test_file_3.txt', 'data/indexes/test_file_2.txt'}\n",
      "i\n",
      "{'data/indexes/test_file_1.txt', 'data/indexes/test_file_3.txt', 'data/indexes/test_file_2.txt'}\n",
      "I\n",
      "{'data/indexes/test_file_1.txt', 'data/indexes/test_file_3.txt', 'data/indexes/test_file_2.txt'}\n"
     ]
    }
   ],
   "source": [
    "print(\"BDE\")\n",
    "print(test.search(\"BDE\"))\n",
    "print(\"DBSys\")\n",
    "print(test.search(\"DBSys\"))\n",
    "print(\"i\")\n",
    "print(test.search(\"i\"))\n",
    "print(\"I\")\n",
    "print(test.search(\"I\"))"
   ]
  },
  {
   "cell_type": "markdown",
   "id": "bf73f6c2",
   "metadata": {},
   "source": [
    "### Unit tests\n",
    "\n",
    "Note that test cases are by no means exhaustive!"
   ]
  },
  {
   "cell_type": "code",
   "execution_count": 6,
   "id": "5ffdcc43",
   "metadata": {},
   "outputs": [],
   "source": [
    "import unittest\n",
    "\n",
    "class RecursiveInvertedIndexTest(unittest.TestCase):\n",
    "    \n",
    "    def setUp(self):\n",
    "        self.documents = [\"data/indexes/test_file_1.txt\", \"data/indexes/test_file_2.txt\", \"data/indexes/test_file_3.txt\"]\n",
    "        self.rec_inverted_index = RecursiveInvertedIndex(self.documents)\n",
    "    \n",
    "    def test_no_result(self):\n",
    "        search_result = self.rec_inverted_index.search(\"Im\")\n",
    "        self.assertEqual(len(search_result), 0)\n",
    "        search_result = self.rec_inverted_index.search(\"BDER\")\n",
    "        self.assertEqual(len(search_result), 0)\n",
    "        search_result = self.rec_inverted_index.search(\"lotin\")\n",
    "        self.assertEqual(len(search_result), 0)\n",
    "        search_result = self.rec_inverted_index.search(\"\")\n",
    "        self.assertEqual(len(search_result), 0)\n",
    "        search_result = self.rec_inverted_index.search(\" \")\n",
    "        self.assertEqual(len(search_result), 0)\n",
    "        search_result = self.rec_inverted_index.search(\"ar\")\n",
    "        self.assertEqual(len(search_result), 0)\n",
    "    \n",
    "    def test_with_result(self):\n",
    "        search_result = self.rec_inverted_index.search(\"bde\")\n",
    "        self.assertEqual(len(search_result), 2)\n",
    "        self.assertTrue(\"data/indexes/test_file_1.txt\" in search_result and \"data/indexes/test_file_3.txt\" in search_result)\n",
    "        search_result = self.rec_inverted_index.search(\"DBS\")\n",
    "        self.assertEqual(len(search_result), 2)\n",
    "        self.assertTrue(\"data/indexes/test_file_2.txt\" in search_result and \"data/indexes/test_file_3.txt\" in search_result)\n",
    "        search_result = self.rec_inverted_index.search(\"I\")\n",
    "        self.assertEqual(len(search_result), 3)\n",
    "        for document in self.documents:\n",
    "            self.assertTrue(document in search_result)\n",
    "        search_result = self.rec_inverted_index.search(\"course\")\n",
    "        self.assertEqual(len(search_result), 2)\n",
    "        self.assertTrue(\"data/indexes/test_file_1.txt\" in search_result and \"data/indexes/test_file_2.txt\" in search_result)\n",
    "        search_result = self.rec_inverted_index.search(\"o\")\n",
    "        self.assertEqual(len(search_result), 1)\n",
    "        self.assertTrue(\"data/indexes/test_file_3.txt\" in search_result)"
   ]
  },
  {
   "cell_type": "code",
   "execution_count": 7,
   "id": "f9e1cbed",
   "metadata": {},
   "outputs": [
    {
     "name": "stderr",
     "output_type": "stream",
     "text": [
      "test_no_result (__main__.RecursiveInvertedIndexTest) ... ok\n",
      "test_with_result (__main__.RecursiveInvertedIndexTest) ... ok\n",
      "\n",
      "----------------------------------------------------------------------\n",
      "Ran 2 tests in 0.002s\n",
      "\n",
      "OK\n"
     ]
    },
    {
     "data": {
      "text/plain": [
       "<unittest.main.TestProgram at 0x10a3e92e0>"
      ]
     },
     "execution_count": 7,
     "metadata": {},
     "output_type": "execute_result"
    }
   ],
   "source": [
    "# Run the unit test without shutting down the jupyter kernel\n",
    "unittest.main(argv=['ignored', '-v'], verbosity=2, exit=False)"
   ]
  }
 ],
 "metadata": {
  "kernelspec": {
   "display_name": "Python 3 (ipykernel)",
   "language": "python",
   "name": "python3"
  },
  "language_info": {
   "codemirror_mode": {
    "name": "ipython",
    "version": 3
   },
   "file_extension": ".py",
   "mimetype": "text/x-python",
   "name": "python",
   "nbconvert_exporter": "python",
   "pygments_lexer": "ipython3",
   "version": "3.8.18"
  },
  "varInspector": {
   "cols": {
    "lenName": 16,
    "lenType": 16,
    "lenVar": 40
   },
   "kernels_config": {
    "python": {
     "delete_cmd_postfix": "",
     "delete_cmd_prefix": "del ",
     "library": "var_list.py",
     "varRefreshCmd": "print(var_dic_list())"
    },
    "r": {
     "delete_cmd_postfix": ") ",
     "delete_cmd_prefix": "rm(",
     "library": "var_list.r",
     "varRefreshCmd": "cat(var_dic_list()) "
    }
   },
   "types_to_exclude": [
    "module",
    "function",
    "builtin_function_or_method",
    "instance",
    "_Feature"
   ],
   "window_display": false
  }
 },
 "nbformat": 4,
 "nbformat_minor": 5
}
