{
 "cells": [
  {
   "cell_type": "markdown",
   "id": "deabc56c",
   "metadata": {},
   "source": [
    "# Recursive Inverted Index (5 Points)\n",
    "\n",
    "Copyright [Big Data Analytics Group](https://bigdata.uni-saarland.de/), [CC-BY-SA](https://creativecommons.org/licenses/by-sa/4.0/legalcode)"
   ]
  },
  {
   "cell_type": "markdown",
   "id": "ce067d49",
   "metadata": {},
   "source": [
    "In this exercise, you will implement an [inverted index](https://en.wikipedia.org/wiki/Inverted_index). An inverted index is a mapping from the content (e.g. words) of\n",
    "a document to the document itself. In addition, in this exercise we radix-partition the words, i.e. we _recursively_ partition the words characterwise similar to the notebook [Indexing by Recursive External Partitioning.ipynb](https://github.com/BigDataAnalyticsGroup/bigdataengineering/blob/master/Indexing%20by%20Recursive%20External%20Partitioning.ipynb). This structure allows us to easily search for documents that contain a word that exactly matches a given search word, but also words that start with the given search word (prefix search). Implement the following functions of the class `RecursiveInvertedIndex` in the attached notebook:\n",
    "* `__init__`: This is the constructor of the class, which takes a list of documents names and creates the\n",
    "    recursive, inverted index based on these documents. Your words must be radix-partitioned. You can use the helper\n",
    "        function`get_words_from_document(document_name)`, which takes a document name as input and then\n",
    "        returns a set of words contained in the document. Note, that all words are converted to lowercase.\n",
    "* `search(word)`: This function uses the inverted index to return a list of all matching documents given the key `word`. Matching here means that the search word either exactly matches one of the words in a document, or at least one of the words in a document starts with the search word. If no documents exist for a search word, an empty set is returned. Otherwise, the set of all matching documents is returned. Your implementation should be case-insensitive.\n",
    "\n",
    "Your implementation must pass all provided unit tests without hardcoding!"
   ]
  },
  {
   "cell_type": "code",
   "execution_count": 3,
   "id": "4eff7171",
   "metadata": {},
   "outputs": [],
   "source": [
    "def get_words_from_document(document_name):\n",
    "    with open(document_name) as f:\n",
    "        text = f.read().replace('.', '')\n",
    "        word_list = text.split(\" \")\n",
    "        words = set([word.lower() for word in word_list])\n",
    "        return words"
   ]
  },
  {
   "cell_type": "code",
   "execution_count": 102,
   "id": "d4a46071",
   "metadata": {},
   "outputs": [],
   "source": [
    "# Upload the contents of this cell to our CMS as a text file\n",
    "\n",
    "# A class implementing a recursive, inverted index\n",
    "class RecursiveInvertedIndex:\n",
    "    out = {}\n",
    "    def create_key_values(self, file_list):\n",
    "        output_dict = {}\n",
    "        test_words = []\n",
    "\n",
    "        for file in file_list:\n",
    "            test_words.append(get_words_from_document(file))\n",
    "\n",
    "        # Iterate through each set in the list\n",
    "        for index, word_set in enumerate(test_words):\n",
    "            # Iterate through each word in the set\n",
    "            for word in word_set:\n",
    "                # If the word is not already in the dictionary, add it with the current index\n",
    "                if word not in output_dict:\n",
    "                    output_dict[word] = set()\n",
    "                # Append the current index (1-based) to the list of indices for the word\n",
    "                output_dict[word].add(index + 1)\n",
    "\n",
    "        # Print the resulting dictionary\n",
    "        return output_dict\n",
    "                \n",
    "    # a partitioning function returning the <position>-th character from <inputString>\n",
    "    def radixPartitioningFunction(self, inputString, position):\n",
    "        if len(inputString) > position:\n",
    "            return inputString[position]\n",
    "        else:\n",
    "            return inputString[-1]\n",
    "\n",
    "    def partitioningStep(self, file_list, recursionLevel=0):\n",
    "        # initialize a dictionary for the output partitions and files created in this partitioning step\n",
    "        outputFiles = {}\n",
    "        \n",
    "        output_dictionary = self.create_key_values(file_list)\n",
    "\n",
    "        for key, value in output_dictionary.items():\n",
    "            # compute the partition of the key:\n",
    "            partition = self.radixPartitioningFunction(key.lower(), recursionLevel)\n",
    "\n",
    "            # check if the output file already exists, create it if not:\n",
    "            if partition not in outputFiles:\n",
    "                outputFiles[partition] = set()\n",
    "                outputFiles[partition].update(value)\n",
    "\n",
    "        return outputFiles, recursionLevel+1\n",
    "\n",
    "    def __init__(self, document_names):\n",
    "        self.out, _ = self.partitioningStep(document_names)\n",
    "\n",
    "    def search(self, word): \n",
    "        documents = set()\n",
    "        for key, value in self.out.items():\n",
    "            if word == key:\n",
    "                documents.update(value)\n",
    "        return documents\n",
    "\n",
    "        # Add your code here!\n",
    "        # ...\n",
    "        # This function should return the set of all matching documents. A matching document either contains exactly the search word or\n",
    "        # a word that starts with the given search word (or both)."
   ]
  },
  {
   "cell_type": "code",
   "execution_count": 111,
   "id": "85e35558",
   "metadata": {},
   "outputs": [
    {
     "name": "stdout",
     "output_type": "stream",
     "text": [
      "{'l': {1}, 'i': {1, 2}, 'a': {1, 3}, 't': {1, 2}, 'c': {1, 2}, 'b': {1, 3}, 'm': {2}, 'd': {2, 3}, 'e': {2}, 'g': {3}, 'o': {3}, 'w': {3}}\n",
      "{'lot': {1}, 'in': {1, 2}, 'a': {1, 3}, 'the': {1, 2}, 'course': {1, 2}, 'learned': {1, 2}, 'bde': {1, 3}, 'i': {1, 2}, 'more': {2}, 'dbsys': {2, 3}, 'even': {2}, 'idea': {3}, 'good': {3}, 'overall': {3}, 'was': {3}, 'before': {3}, 'to': {3}, 'it': {3}, 'take': {3}, 'taking': {3}}\n"
     ]
    }
   ],
   "source": [
    "test = RecursiveInvertedIndex([\"data/indexes/test_file_1.txt\", \"data/indexes/test_file_2.txt\", \"data/indexes/test_file_3.txt\"])\n",
    "\n",
    "\n",
    "b = test.create_key_values([\"data/indexes/test_file_1.txt\", \"data/indexes/test_file_2.txt\", \"data/indexes/test_file_3.txt\"])\n",
    "a, _ = test.partitioningStep([\"data/indexes/test_file_1.txt\", \"data/indexes/test_file_2.txt\", \"data/indexes/test_file_3.txt\"])\n",
    "\n",
    "print(a)\n",
    "print(b)\n",
    "\n",
    "#\n",
    "#for key, value in a.items():\n",
    "#    print(key + \" -> \" + \", \".join(map(str, value)))\n",
    "#"
   ]
  },
  {
   "cell_type": "code",
   "execution_count": 112,
   "id": "b7e614b2",
   "metadata": {},
   "outputs": [
    {
     "name": "stdout",
     "output_type": "stream",
     "text": [
      "{1, 3}\n"
     ]
    }
   ],
   "source": [
    "word = \"bde\"\n",
    "documents = set()\n",
    "for key, value in b.items():\n",
    "    if word == key:\n",
    "        documents.update(value)\n",
    "print(documents)"
   ]
  },
  {
   "cell_type": "code",
   "execution_count": 113,
   "id": "03d69a65",
   "metadata": {},
   "outputs": [
    {
     "name": "stdout",
     "output_type": "stream",
     "text": [
      "set()\n"
     ]
    }
   ],
   "source": [
    "print(test.search(\"bde\"))"
   ]
  },
  {
   "cell_type": "markdown",
   "id": "bf73f6c2",
   "metadata": {},
   "source": [
    "### Unit tests\n",
    "\n",
    "Note that test cases are by no means exhaustive!"
   ]
  },
  {
   "cell_type": "code",
   "execution_count": null,
   "id": "5ffdcc43",
   "metadata": {},
   "outputs": [],
   "source": [
    "import unittest\n",
    "\n",
    "class RecursiveInvertedIndexTest(unittest.TestCase):\n",
    "    \n",
    "    def setUp(self):\n",
    "        self.documents = [\"data/indexes/test_file_1.txt\", \"data/indexes/test_file_2.txt\", \"data/indexes/test_file_3.txt\"]\n",
    "        self.rec_inverted_index = RecursiveInvertedIndex(self.documents)\n",
    "    \n",
    "    def test_no_result(self):\n",
    "        search_result = self.rec_inverted_index.search(\"Im\")\n",
    "        self.assertEqual(len(search_result), 0)\n",
    "        search_result = self.rec_inverted_index.search(\"BDER\")\n",
    "        self.assertEqual(len(search_result), 0)\n",
    "        search_result = self.rec_inverted_index.search(\"lotin\")\n",
    "        self.assertEqual(len(search_result), 0)\n",
    "        search_result = self.rec_inverted_index.search(\"\")\n",
    "        self.assertEqual(len(search_result), 0)\n",
    "        search_result = self.rec_inverted_index.search(\" \")\n",
    "        self.assertEqual(len(search_result), 0)\n",
    "        search_result = self.rec_inverted_index.search(\"ar\")\n",
    "        self.assertEqual(len(search_result), 0)\n",
    "    \n",
    "    def test_with_result(self):\n",
    "        search_result = self.rec_inverted_index.search(\"bde\")\n",
    "        self.assertEqual(len(search_result), 2)\n",
    "        self.assertTrue(\"data/indexes/test_file_1.txt\" in search_result and \"data/indexes/test_file_3.txt\" in search_result)\n",
    "        search_result = self.rec_inverted_index.search(\"DBS\")\n",
    "        self.assertEqual(len(search_result), 2)\n",
    "        self.assertTrue(\"data/indexes/test_file_2.txt\" in search_result and \"data/indexes/test_file_3.txt\" in search_result)\n",
    "        search_result = self.rec_inverted_index.search(\"I\")\n",
    "        self.assertEqual(len(search_result), 3)\n",
    "        for document in self.documents:\n",
    "            self.assertTrue(document in search_result)\n",
    "        search_result = self.rec_inverted_index.search(\"course\")\n",
    "        self.assertEqual(len(search_result), 2)\n",
    "        self.assertTrue(\"data/indexes/test_file_1.txt\" in search_result and \"data/indexes/test_file_2.txt\" in search_result)\n",
    "        search_result = self.rec_inverted_index.search(\"o\")\n",
    "        self.assertEqual(len(search_result), 1)\n",
    "        self.assertTrue(\"data/indexes/test_file_3.txt\" in search_result)"
   ]
  },
  {
   "cell_type": "code",
   "execution_count": null,
   "id": "f9e1cbed",
   "metadata": {},
   "outputs": [],
   "source": [
    "# Run the unit test without shutting down the jupyter kernel\n",
    "unittest.main(argv=['ignored', '-v'], verbosity=2, exit=False)"
   ]
  }
 ],
 "metadata": {
  "kernelspec": {
   "display_name": "Python 3 (ipykernel)",
   "language": "python",
   "name": "python3"
  },
  "language_info": {
   "codemirror_mode": {
    "name": "ipython",
    "version": 3
   },
   "file_extension": ".py",
   "mimetype": "text/x-python",
   "name": "python",
   "nbconvert_exporter": "python",
   "pygments_lexer": "ipython3",
   "version": "3.8.18"
  },
  "varInspector": {
   "cols": {
    "lenName": 16,
    "lenType": 16,
    "lenVar": 40
   },
   "kernels_config": {
    "python": {
     "delete_cmd_postfix": "",
     "delete_cmd_prefix": "del ",
     "library": "var_list.py",
     "varRefreshCmd": "print(var_dic_list())"
    },
    "r": {
     "delete_cmd_postfix": ") ",
     "delete_cmd_prefix": "rm(",
     "library": "var_list.r",
     "varRefreshCmd": "cat(var_dic_list()) "
    }
   },
   "types_to_exclude": [
    "module",
    "function",
    "builtin_function_or_method",
    "instance",
    "_Feature"
   ],
   "window_display": false
  }
 },
 "nbformat": 4,
 "nbformat_minor": 5
}
