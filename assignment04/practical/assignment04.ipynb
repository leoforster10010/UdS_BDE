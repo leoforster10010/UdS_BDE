{
 "cells": [
  {
   "cell_type": "markdown",
   "metadata": {},
   "source": [
    "## Commissioner Equi-Join's Toughest Case (5 Points)\n",
    "Copyright Jens Dittrich, Christian Schön & Jors Nix, [Big Data Analytics Group](https://bigdata.uni-saarland.de/), [CC-BY-SA](https://creativecommons.org/licenses/by-sa/4.0/legalcode)\n",
    "\n",
    "In this exercise you will help commissioner equi-join solving one of his old, unsolved cases."
   ]
  },
  {
   "cell_type": "code",
   "execution_count": 1,
   "metadata": {},
   "outputs": [],
   "source": [
    "import duckdb"
   ]
  },
  {
   "cell_type": "markdown",
   "metadata": {},
   "source": [
    "## Load Data\n",
    "\n",
    "Before we can start analyzing the data, we first have to load data from the corresponding csv files into an appropriate database schema. This is fake data."
   ]
  },
  {
   "cell_type": "code",
   "execution_count": 2,
   "metadata": {},
   "outputs": [],
   "source": [
    "duckdb.sql(\"\"\"\n",
    "    CREATE TABLE households (\n",
    "    id INTEGER PRIMARY KEY,\n",
    "    street VARCHAR,\n",
    "    postcode INTEGER,\n",
    "    city VARCHAR,\n",
    "    floor INTEGER\n",
    ");\"\"\")\n",
    "\n",
    "duckdb.sql(\"\"\"\n",
    "CREATE TABLE citizens (\n",
    "    id INTEGER PRIMARY KEY,\n",
    "    firstname VARCHAR,\n",
    "    lastname VARCHAR,\n",
    "    birthday TIMESTAMP\n",
    ");\"\"\")\n",
    "\n",
    "duckdb.sql(\"\"\"\n",
    "CREATE TABLE live_in (\n",
    "    household_id INTEGER,\n",
    "    citizen_id INTEGER,\n",
    "    start TIMESTAMP,\n",
    "    until TIMESTAMP,\n",
    "    FOREIGN KEY(household_id) REFERENCES households(id),\n",
    "    FOREIGN KEY(citizen_id) REFERENCES citizens(id),\n",
    "    PRIMARY KEY(citizen_id, start)\n",
    ");\"\"\")\n",
    "\n",
    "duckdb.sql(\"\"\"\n",
    "CREATE TABLE articles (\n",
    "    id INTEGER PRIMARY KEY,\n",
    "    label VARCHAR,\n",
    "    unit VARCHAR\n",
    ");\"\"\")\n",
    "\n",
    "duckdb.sql(\"\"\"\n",
    "CREATE TABLE groceries (\n",
    "    id INTEGER PRIMARY KEY,\n",
    "    caloriesPer100g INTEGER,\n",
    "    FOREIGN KEY(id) REFERENCES articles(id)\n",
    ");\"\"\")\n",
    "\n",
    "duckdb.sql(\"\"\"\n",
    "CREATE TABLE purchases (\n",
    "    article_id INTEGER,\n",
    "    citizen_id INTEGER,\n",
    "    date TIMESTAMP,\n",
    "    amount FLOAT,\n",
    "    FOREIGN KEY(article_id) REFERENCES articles(id),\n",
    "    FOREIGN KEY(citizen_id) REFERENCES citizens(id),\n",
    "    PRIMARY KEY(article_id, citizen_id, date)\n",
    ");\"\"\")"
   ]
  },
  {
   "cell_type": "code",
   "execution_count": 3,
   "metadata": {},
   "outputs": [],
   "source": [
    "duckdb.sql(\"COPY households FROM './data/nsa/households_no_header.csv' (FORMAT CSV, DELIMITER ',');\")\n",
    "duckdb.sql(\"COPY citizens FROM './data/nsa/citizens_no_header.csv' (FORMAT CSV, DELIMITER ',');\")\n",
    "duckdb.sql(\"COPY live_in FROM './data/nsa/live_in_no_header.csv' (FORMAT CSV, DELIMITER ',');\")\n",
    "duckdb.sql(\"COPY articles FROM './data/nsa/articles_no_header.csv' (FORMAT CSV, DELIMITER ',');\")\n",
    "duckdb.sql(\"COPY groceries FROM './data/nsa/groceries_no_header.csv' (FORMAT CSV, DELIMITER ',');\")\n",
    "duckdb.sql(\"COPY purchases FROM './data/nsa/purchases_no_header.csv' (FORMAT CSV, DELIMITER ',');\")"
   ]
  },
  {
   "cell_type": "markdown",
   "metadata": {},
   "source": [
    "### Your query\n",
    "\n",
    "Enter your query in the following cell. It should output the list of main suspects in the following format:\n",
    "1. The suspects' first names as 'First_Name'\n",
    "2. The last names of the suspects as 'Last_Name'\n",
    "\n",
    "You are allowed to use subqueries and views."
   ]
  },
  {
   "cell_type": "markdown",
   "metadata": {},
   "source": [
    "# Alle normalen SQL Statements sind nur zum testen da!!!"
   ]
  },
  {
   "cell_type": "markdown",
   "metadata": {},
   "source": [
    "## Nur die Views und das letzte Select sind wichtig!!"
   ]
  },
  {
   "cell_type": "code",
   "execution_count": null,
   "metadata": {},
   "outputs": [],
   "source": [
    "duckdb.sql('''\n",
    "    select ci.firstname, ci.lastname, h.street, li.start as started_living_there,a.label, p.date as purchase_date, p.amount\n",
    "    from purchases as p\n",
    "    join articles as a on p.article_id = a.id\n",
    "    join live_in as li on p.citizen_id = li.citizen_id\n",
    "    join households as h on li.household_id = h.id\n",
    "    join citizens as ci on p.citizen_id = ci.id\n",
    "    where p.date between '1943-11-19 15:00:00' and '1943-11-24 15:00:00'\n",
    "        and li.start <= '1943-11-24 15:00:00'\n",
    "    order by p.citizen_id\n",
    "''')"
   ]
  },
  {
   "cell_type": "code",
   "execution_count": null,
   "metadata": {},
   "outputs": [],
   "source": [
    "duckdb.sql('''\n",
    "    select p.citizen_id,min(p.date) as earlies_purchase,max(p.date) as latest_purchase\n",
    "    from purchases as p\n",
    "    join articles as a on p.article_id = a.id\n",
    "    where p.date between '1943-11-19 15:00:00' and '1943-11-24 15:00:00'\n",
    "    group by p.citizen_id\n",
    "''')"
   ]
  },
  {
   "cell_type": "code",
   "execution_count": null,
   "metadata": {},
   "outputs": [],
   "source": [
    "duckdb.sql('''\n",
    "    select p.citizen_id,ci.firstname,ci.lastname, a.label, round(sum(p.amount),2) as amount_in_Kg\n",
    "    from purchases as p\n",
    "    join articles as a on p.article_id = a.id\n",
    "    join citizens as ci on p.citizen_id = ci.id\n",
    "    where p.date between '1943-11-19 15:00:00' and '1943-11-24 15:00:00' and a.label = 'Apple'\n",
    "    group by p.citizen_id,ci.firstname,ci.lastname, a.label\n",
    "    having sum(p.amount) >= 2\n",
    "    union\n",
    "    select p.citizen_id,ci.firstname,ci.lastname, a.label, round(sum(p.amount),2) as amount_in_Kg\n",
    "    from purchases as p\n",
    "    join articles as a on p.article_id = a.id\n",
    "    join citizens as ci on p.citizen_id = ci.id\n",
    "    where p.date between '1943-11-19 15:00:00' and '1943-11-24 15:00:00' and a.label = 'Onion'\n",
    "    group by p.citizen_id,ci.firstname,ci.lastname, a.label\n",
    "    having sum(p.amount) >= 1\n",
    "    union\n",
    "    select p.citizen_id,ci.firstname,ci.lastname, a.label, round(sum(p.amount),2) as amount_in_Kg\n",
    "    from purchases as p\n",
    "    join articles as a on p.article_id = a.id\n",
    "    join citizens as ci on p.citizen_id = ci.id\n",
    "    where p.date between '1943-11-19 15:00:00' and '1943-11-24 15:00:00' and a.label = 'Carrot'\n",
    "    group by p.citizen_id,ci.firstname,ci.lastname, a.label\n",
    "    having sum(p.amount) >=0.5\n",
    "    order by p.citizen_id\n",
    "''')"
   ]
  },
  {
   "cell_type": "markdown",
   "metadata": {},
   "source": [
    "# Ab hier ist es erst relevant für die Abgabe"
   ]
  },
  {
   "cell_type": "code",
   "execution_count": 4,
   "metadata": {},
   "outputs": [],
   "source": [
    "duckdb.sql(\"DROP VIEW IF EXISTS suspiciousOrders;\")\n",
    "\n",
    "duckdb.sql(\"\"\"\n",
    "CREATE VIEW suspiciousOrders AS\n",
    "    select p.citizen_id, a.label, round(sum(p.amount),2) as amount\n",
    "    from purchases as p\n",
    "    join articles as a on p.article_id = a.id\n",
    "    where p.date between '1943-11-19 15:00:00' and '1943-11-24 15:00:00' and a.label = 'Apple'\n",
    "    group by p.citizen_id, a.label\n",
    "    having sum(p.amount) >= 2\n",
    "    union\n",
    "    select p.citizen_id, a.label, round(sum(p.amount),2) as amount\n",
    "    from purchases as p\n",
    "    join articles as a on p.article_id = a.id\n",
    "    where p.date between '1943-11-19 15:00:00' and '1943-11-24 15:00:00' and a.label = 'Onion'\n",
    "    group by p.citizen_id, a.label\n",
    "    having sum(p.amount) >= 1\n",
    "    union\n",
    "    select p.citizen_id, a.label, round(sum(p.amount),2) as amount\n",
    "    from purchases as p\n",
    "    join articles as a on p.article_id = a.id\n",
    "    where p.date between '1943-11-19 15:00:00' and '1943-11-24 15:00:00' and a.label = 'Carrot'\n",
    "    group by p.citizen_id, a.label\n",
    "    having sum(p.amount) >=0.5;\n",
    "\"\"\")"
   ]
  },
  {
   "cell_type": "code",
   "execution_count": 5,
   "metadata": {},
   "outputs": [],
   "source": [
    "duckdb.sql(\"DROP VIEW IF EXISTS suspects;\")\n",
    "\n",
    "duckdb.sql(\"\"\"\n",
    "CREATE VIEW suspects AS\n",
    "    select distinct firstname as First_Name, lastname as Last_Name\n",
    "    from citizens as ci\n",
    "    join live_in as li on ci.id = li.citizen_id\n",
    "    join households as h on li.household_id = h.id\n",
    "    join suspiciousOrders as so on ci.id = so.citizen_id\n",
    "    where h.street like '%13' OR h.street like '%bucht%' OR h.street like 'Kor%'\n",
    "    order by firstname, lastname\n",
    "\"\"\")"
   ]
  },
  {
   "cell_type": "code",
   "execution_count": 6,
   "metadata": {},
   "outputs": [
    {
     "data": {
      "text/plain": [
       "┌────────────┬───────────┐\n",
       "│ First_Name │ Last_Name │\n",
       "│  varchar   │  varchar  │\n",
       "├────────────┼───────────┤\n",
       "│ Norman     │ Bates     │\n",
       "└────────────┴───────────┘"
      ]
     },
     "execution_count": 6,
     "metadata": {},
     "output_type": "execute_result"
    }
   ],
   "source": [
    "duckdb.sql(\"SELECT * FROM suspects\")"
   ]
  }
 ],
 "metadata": {
  "kernelspec": {
   "display_name": "Python 3 (ipykernel)",
   "language": "python",
   "name": "python3"
  },
  "language_info": {
   "codemirror_mode": {
    "name": "ipython",
    "version": 3
   },
   "file_extension": ".py",
   "mimetype": "text/x-python",
   "name": "python",
   "nbconvert_exporter": "python",
   "pygments_lexer": "ipython3",
   "version": "3.10.12"
  },
  "varInspector": {
   "cols": {
    "lenName": 16,
    "lenType": 16,
    "lenVar": 40
   },
   "kernels_config": {
    "python": {
     "delete_cmd_postfix": "",
     "delete_cmd_prefix": "del ",
     "library": "var_list.py",
     "varRefreshCmd": "print(var_dic_list())"
    },
    "r": {
     "delete_cmd_postfix": ") ",
     "delete_cmd_prefix": "rm(",
     "library": "var_list.r",
     "varRefreshCmd": "cat(var_dic_list()) "
    }
   },
   "types_to_exclude": [
    "module",
    "function",
    "builtin_function_or_method",
    "instance",
    "_Feature"
   ],
   "window_display": false
  }
 },
 "nbformat": 4,
 "nbformat_minor": 2
}
