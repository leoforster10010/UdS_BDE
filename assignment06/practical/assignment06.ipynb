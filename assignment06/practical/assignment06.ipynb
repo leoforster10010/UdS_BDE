{
 "cells": [
  {
   "cell_type": "markdown",
   "metadata": {},
   "source": [
    "# Plan Enumeration Without Cartesian Products (5 Points)\n",
    "\n",
    "Copyright Immanuel Haffner, Jens Dittrich  [Big Data Analytics Group](https://bigdata.uni-saarland.de/), [CC-BY-SA](https://creativecommons.org/licenses/by-sa/4.0/legalcode)\n",
    "\n",
    "## Set-Up"
   ]
  },
  {
   "cell_type": "code",
   "execution_count": null,
   "metadata": {},
   "outputs": [],
   "source": [
    "from dataclasses import dataclass\n",
    "import graphviz as gv\n",
    "import itertools\n",
    "import math\n",
    "import random as rnd\n",
    "import typing"
   ]
  },
  {
   "cell_type": "markdown",
   "metadata": {},
   "source": [
    "## Define a Join Graph Data Structure\n",
    "\n",
    "A join graph is a collection of named relations and joins of these relations.  The join graph implements certain sanity\n",
    "checks:  (1) No two relations must have the same name.  (2) The selectivity of a join must be in the range 0 to 1\n",
    "(inclusive).  (3)  The relations that a join refers to must be present in the join graph.\n",
    "\n",
    "This class is meant to be used as a single handle to a potentially complex join graph structure."
   ]
  },
  {
   "cell_type": "code",
   "execution_count": null,
   "metadata": {},
   "outputs": [],
   "source": [
    "class JoinGraph:\n",
    "    @dataclass(eq=True, frozen=True)\n",
    "    class Relation:\n",
    "        name: str\n",
    "        size: int\n",
    "\n",
    "    @dataclass(eq=True, frozen=True)\n",
    "    class Join:\n",
    "        selectivity: float\n",
    "        relation_names: typing.Tuple\n",
    "\n",
    "    def __init__(self):\n",
    "        self.named_relations = dict()\n",
    "        self.joins = set()\n",
    "\n",
    "    def add_relation(self, name, size):\n",
    "        if name in self.named_relations:\n",
    "            raise ValueError(f'Name \"{name}\" already taken')\n",
    "        self.named_relations[name] = JoinGraph.Relation(name, size)\n",
    "\n",
    "    def add_join(self, selectivity, *relation_names):\n",
    "        # Make sure, all relations are present\n",
    "        for tn in relation_names:\n",
    "            if not tn in self.named_relations:\n",
    "                raise ValueError(f'No relation with name \"{tn}\"')\n",
    "        if not (0 <= selectivity <= 1):\n",
    "            raise ValueError(f'Illegal selectivity of {selectivity}; must be in the range 0 to 1.')\n",
    "        self.joins.add(JoinGraph.Join(selectivity, relation_names))"
   ]
  },
  {
   "cell_type": "markdown",
   "metadata": {},
   "source": [
    "###  Define a function to draw the join graph with the graphviz tool."
   ]
  },
  {
   "cell_type": "code",
   "execution_count": null,
   "metadata": {},
   "outputs": [],
   "source": [
    "def draw_join_graph(graph):\n",
    "    G = gv.Graph(name='join_graph', comment='The Join Graph')\n",
    "\n",
    "    # Find the minimum and maximum join selectivities in the join graph\n",
    "    sel_min = sel_max = 0\n",
    "    for J in graph.joins:\n",
    "        sel_min = min(sel_min, J.selectivity)\n",
    "        sel_max = max(sel_max, J.selectivity)\n",
    "\n",
    "    # Add the Relations as vertices.\n",
    "    for T in graph.named_relations.values():\n",
    "        G.node(T.name, f'<<B>{T.name}</B><SUB><FONT POINT-SIZE=\"10\">|·|={T.size:,}</FONT></SUB>>')\n",
    "\n",
    "    # Add the joins as edges with their selectivity as label.\n",
    "    for J in graph.joins:\n",
    "        vertices = J.relation_names\n",
    "        for i in range(1, len(vertices)):\n",
    "            x = 1 - (J.selectivity - sel_min) / (sel_max - sel_min)\n",
    "            penwidth = 3.5 * x**5 + 0.4 # compute the stroke width proportionally to the selectivity\n",
    "            G.attr('edge', penwidth=str(penwidth))\n",
    "            G.edge(vertices[i-1], vertices[i], label=f'{J.selectivity:f}')\n",
    "\n",
    "    return G"
   ]
  },
  {
   "cell_type": "markdown",
   "metadata": {},
   "source": [
    "### Defining a Cost Model\n",
    "\n",
    "First we need to define a cost function to estimate the cost of a join.  We define a cost function that estimates the\n",
    "cost of a join as the sum of the sizes of the two input relations, called `size_of_inputs`.  (This is similar the the\n",
    "cost model of the running time of a hash join, given $c_1$ and $c_2$ are 1.)"
   ]
  },
  {
   "cell_type": "code",
   "execution_count": null,
   "metadata": {},
   "outputs": [],
   "source": [
    "class CostFunctions:\n",
    "    # The cost of a join is equal to the sum of the size of all input relations.\n",
    "    def size_of_inputs(size_left, size_right, selectivity):\n",
    "        return size_left + size_right"
   ]
  },
  {
   "cell_type": "code",
   "execution_count": null,
   "metadata": {},
   "outputs": [],
   "source": [
    "def compute_cost(plan, graph, cost_fn):\n",
    "    # Start with the first relation.\n",
    "    first = plan[0]\n",
    "    joined = set([first])\n",
    "    size_left = graph.named_relations[first].size\n",
    "    cost = 0\n",
    "    # print(f'Start with relation {first} of size {size_left:,}')\n",
    "\n",
    "    # Join each relation one after the other.\n",
    "    for i in range (1, len(plan)):\n",
    "        right = plan[i]\n",
    "\n",
    "        # Combine all join predicates.  If no join predicate is applicable, the selectivity remains 1 and the join\n",
    "        # degenerates to the Cartesian product.\n",
    "        selectivity = 1\n",
    "        for J in graph.joins:\n",
    "            if right in J.relation_names and len(joined.intersection(J.relation_names)) != 0:\n",
    "                selectivity *= J.selectivity\n",
    "\n",
    "        size_right = graph.named_relations[right].size\n",
    "        # print(f'Join {joined} of size {size_left} and {right} of size {size_right} with combined selectivity {selectivity:f}.')\n",
    "        # Add the cost of this join to the total cost.\n",
    "        cost += cost_fn(size_left, size_right, selectivity)\n",
    "        # Compute the size of the new intermediate result.\n",
    "        size_left = round(selectivity * size_left * size_right)\n",
    "        #print(f'  --> Cost = {cost:,}, Size = {size_left:,}')\n",
    "        joined.add(right)\n",
    "\n",
    "    return cost"
   ]
  },
  {
   "cell_type": "markdown",
   "metadata": {},
   "source": [
    "### A more complex join graph.\n",
    "\n",
    "This is a join graph for the IMDb data set, extended with the cinemas relation where movies are shown."
   ]
  },
  {
   "cell_type": "code",
   "execution_count": null,
   "metadata": {},
   "outputs": [],
   "source": [
    "imdb_graph = JoinGraph()\n",
    "\n",
    "imdb_graph.add_relation('genres', 17_352)\n",
    "imdb_graph.add_relation('directors_genres', 251_255)\n",
    "imdb_graph.add_relation('directors', 86_881)\n",
    "imdb_graph.add_relation('movie_directors', 371_181)\n",
    "imdb_graph.add_relation('movies', 388_270)\n",
    "imdb_graph.add_relation('movie_genres', 395_120)\n",
    "imdb_graph.add_relation('roles', 3_431_967)\n",
    "imdb_graph.add_relation('actors', 817_719)\n",
    "imdb_graph.add_relation('movie_cinemas', 14_134_503)\n",
    "imdb_graph.add_relation('cinemas', 182_019)\n",
    "\n",
    "imdb_graph.add_join(0.00170,  'genres', 'directors_genres')\n",
    "imdb_graph.add_join(0.00002, 'directors_genres', 'directors')\n",
    "imdb_graph.add_join(0.00021, 'directors', 'movie_directors')\n",
    "imdb_graph.add_join(0.00550, 'movie_directors', 'movies')\n",
    "imdb_graph.add_join(0.00003, 'movies', 'movie_genres')\n",
    "imdb_graph.add_join(0.00800, 'movie_genres', 'genres')\n",
    "imdb_graph.add_join(0.00009, 'movies', 'roles')\n",
    "imdb_graph.add_join(0.00012, 'roles', 'actors')\n",
    "imdb_graph.add_join(0.00001, 'movies', 'movie_cinemas')\n",
    "imdb_graph.add_join(0.00004, 'movie_cinemas', 'cinemas')\n",
    "\n",
    "draw_join_graph(imdb_graph)"
   ]
  },
  {
   "cell_type": "code",
   "execution_count": null,
   "metadata": {},
   "outputs": [],
   "source": [
    "def draw_query_plan(plan):\n",
    "    G = gv.Graph(name='query_plan', comment='The Query Plan')\n",
    "    G.graph_attr['rankdir'] = 'BT'\n",
    "\n",
    "    # Add the Relations as leaves.\n",
    "    for tbl in plan:\n",
    "        G.node(tbl, f'<<B>{tbl}</B>>')\n",
    "\n",
    "    # Add the joins as inner nodes.\n",
    "    left = plan[0]\n",
    "    for i in range(1, len(plan)):\n",
    "        right = plan[i]\n",
    "        G.node(str(i), '⋈')\n",
    "        G.edge(left, str(i))\n",
    "        G.edge(right, str(i))\n",
    "        left = str(i)\n",
    "\n",
    "    return G"
   ]
  },
  {
   "cell_type": "markdown",
   "metadata": {},
   "source": [
    "## Pruning the search space\n",
    "In the notebook [Plan Enumeration.ipynb](https://github.com/BigDataAnalyticsGroup/bigdataengineering/blob/master/Plan%20Enumeration.ipynb)\n",
    "we have already seen how we can, for a given cost function, determine the cheapest plan by enumerating all plan alternatives for a query. Now implement the `find_cheapest_plan_with_pruning()` function, which, unlike `find_cheapest_plan_exhaustive()`, ignores plans with a Cartesian product. To do this, use the join graph passed as a parameter to decide whether a join between two relations or partial results exists. Your function should only consider 'left-deep' plans"
   ]
  },
  {
   "cell_type": "code",
   "execution_count": null,
   "metadata": {},
   "outputs": [],
   "source": [
    "def find_cheapest_plan_with_pruning(join_graph, cost_fn):\n",
    "    # Add your code here!"
   ]
  },
  {
   "cell_type": "markdown",
   "metadata": {},
   "source": [
    "Below you can find a sample solution of the resulting join plan, together with the respective costs. Keep in mind that because of the symmetry, there are multiple valid plans (but not costs!)."
   ]
  },
  {
   "cell_type": "code",
   "execution_count": null,
   "metadata": {
    "scrolled": false
   },
   "outputs": [],
   "source": [
    "plan = ['directors_genres', 'genres', 'directors', 'movie_genres', 'movies', 'movie_directors', 'movie_cinemas', 'cinemas', 'roles', 'actors']\n",
    "display(draw_query_plan(plan))\n",
    "cost = compute_cost(plan, imdb_graph, CostFunctions.size_of_inputs)\n",
    "print(f'The cheapest plan is {plan} with cost {cost:,}.')"
   ]
  },
  {
   "cell_type": "markdown",
   "metadata": {},
   "source": [
    "Use the following cell to test your implementation."
   ]
  },
  {
   "cell_type": "code",
   "execution_count": null,
   "metadata": {},
   "outputs": [],
   "source": [
    "%time plan = find_cheapest_plan_with_pruning(imdb_graph, CostFunctions.size_of_inputs)\n",
    "display(draw_query_plan(plan))\n",
    "cost = compute_cost(plan, imdb_graph, CostFunctions.size_of_inputs)\n",
    "print(f'The cheapest plan is {plan} with cost {cost:,}.')"
   ]
  }
 ],
 "metadata": {
  "kernelspec": {
   "display_name": "Python 3 (ipykernel)",
   "language": "python",
   "name": "python3"
  },
  "language_info": {
   "codemirror_mode": {
    "name": "ipython",
    "version": 3
   },
   "file_extension": ".py",
   "mimetype": "text/x-python",
   "name": "python",
   "nbconvert_exporter": "python",
   "pygments_lexer": "ipython3",
   "version": "3.10.11"
  },
  "varInspector": {
   "cols": {
    "lenName": 16,
    "lenType": 16,
    "lenVar": 40
   },
   "kernels_config": {
    "python": {
     "delete_cmd_postfix": "",
     "delete_cmd_prefix": "del ",
     "library": "var_list.py",
     "varRefreshCmd": "print(var_dic_list())"
    },
    "r": {
     "delete_cmd_postfix": ") ",
     "delete_cmd_prefix": "rm(",
     "library": "var_list.r",
     "varRefreshCmd": "cat(var_dic_list()) "
    }
   },
   "types_to_exclude": [
    "module",
    "function",
    "builtin_function_or_method",
    "instance",
    "_Feature"
   ],
   "window_display": false
  }
 },
 "nbformat": 4,
 "nbformat_minor": 2
}
