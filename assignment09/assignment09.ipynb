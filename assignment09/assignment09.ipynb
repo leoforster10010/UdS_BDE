{
 "cells": [
  {
   "cell_type": "markdown",
   "id": "d3978508",
   "metadata": {},
   "source": [
    "# Cycles in Conflict Graphs (3 Points)\n",
    "Copyright [Big Data Analytics Group](https://bigdata.uni-saarland.de/), [CC-BY-SA](https://creativecommons.org/licenses/by-sa/4.0/legalcode)"
   ]
  },
  {
   "cell_type": "markdown",
   "id": "9f5ded34",
   "metadata": {},
   "source": [
    "In the lecture you have seen how you can identify whether a given schedule is conflict serialisable by examining the conflict graph for cycles.\n",
    "Below you can find the class `ConflictGraph`. It contains a dictionary mapping from vertices $v \\in V$ to a list of vertices $U_v$, where for each $u \\in U_v$ it holds that $(v, u)$ is a directed edge in the graph. \n",
    "\n",
    "Your task is to implement the function `contains_cycle` that analyses whether the corresponding graph contains a cycle. In case the conflict graph contains a cycle, your function should return `True` and `False` otherwise. Your solution should have a runtime of $\\mathcal{O}(n + m )$, with $n$ being the number of vertices and $m$ the number of edges in the conflict graph.\n",
    "\n",
    "**Note: You are not allowed to use any additional imports!**"
   ]
  },
  {
   "cell_type": "code",
   "execution_count": null,
   "id": "3697609e",
   "metadata": {},
   "outputs": [],
   "source": [
    "class ConflictGraph:\n",
    "    def __init__(self, vertices, edge_list):\n",
    "        self.edges = dict()\n",
    "        for v in vertices:\n",
    "            self.edges[v] = list()\n",
    "        for edge in edge_list:\n",
    "            self.edges[edge[0]].append(edge[1])\n",
    "\n",
    "    def contains_cycle(self):\n",
    "        # Add your code here\n",
    "        pass"
   ]
  },
  {
   "cell_type": "markdown",
   "id": "9d5643da",
   "metadata": {},
   "source": [
    "### Unit Tests\n",
    "\n",
    "Note that test cases are by no means exhaustive!"
   ]
  },
  {
   "cell_type": "code",
   "execution_count": null,
   "id": "65552d1d",
   "metadata": {},
   "outputs": [],
   "source": [
    "import unittest\n",
    "\n",
    "class ConflitGraphTests(unittest.TestCase):\n",
    "    \n",
    "    def test_graph_1(self):\n",
    "        graph_nodes = {1, 2}\n",
    "        graph_edges = [(1, 2), (2, 1)]\n",
    "        \n",
    "        graph = ConflictGraph(graph_nodes, graph_edges)\n",
    "        \n",
    "        self.assertTrue(graph.contains_cycle())\n",
    "    \n",
    "    def test_graph_2(self):\n",
    "        graph_nodes = {1, 2, 3, 4}\n",
    "        graph_edges = [(1, 2), (1, 3), (3, 4), (2, 4)]\n",
    "        \n",
    "        graph = ConflictGraph(graph_nodes, graph_edges)\n",
    "        \n",
    "        self.assertFalse(graph.contains_cycle())\n",
    "\n",
    "    def test_graph_3(self):\n",
    "        graph_nodes = {1, 2, 3}\n",
    "        graph_edges = [(1, 2), (2, 3), (3, 1)]\n",
    "        \n",
    "        graph = ConflictGraph(graph_nodes, graph_edges)\n",
    "        \n",
    "        self.assertTrue(graph.contains_cycle())\n",
    "\n",
    "    def test_graph_4(self):\n",
    "        graph_nodes = {1, 2, 3, 4, 5}\n",
    "        graph_edges = [(1, 2), (1, 3), (3, 4), (2, 4), (4, 5), (5, 1)]\n",
    "        \n",
    "        graph = ConflictGraph(graph_nodes, graph_edges)\n",
    "        \n",
    "        self.assertTrue(graph.contains_cycle())\n",
    "        \n",
    "    def test_graph_5(self):\n",
    "        graph_nodes = {1, 2, 3, 4, 5}\n",
    "        graph_edges = [(1, 5), (2, 5), (3, 5), (4, 5)]\n",
    "        \n",
    "        graph = ConflictGraph(graph_nodes, graph_edges)\n",
    "        \n",
    "        self.assertFalse(graph.contains_cycle())"
   ]
  },
  {
   "cell_type": "code",
   "execution_count": null,
   "id": "84e3fe1d",
   "metadata": {},
   "outputs": [],
   "source": [
    "# Run the unit test without shutting down the jupyter kernel\n",
    "unittest.main(argv=['ignored', '-v'], verbosity=2, exit=False)"
   ]
  }
 ],
 "metadata": {
  "kernelspec": {
   "display_name": "Python 3 (ipykernel)",
   "language": "python",
   "name": "python3"
  },
  "language_info": {
   "codemirror_mode": {
    "name": "ipython",
    "version": 3
   },
   "file_extension": ".py",
   "mimetype": "text/x-python",
   "name": "python",
   "nbconvert_exporter": "python",
   "pygments_lexer": "ipython3",
   "version": "3.10.12"
  },
  "varInspector": {
   "cols": {
    "lenName": 16,
    "lenType": 16,
    "lenVar": 40
   },
   "kernels_config": {
    "python": {
     "delete_cmd_postfix": "",
     "delete_cmd_prefix": "del ",
     "library": "var_list.py",
     "varRefreshCmd": "print(var_dic_list())"
    },
    "r": {
     "delete_cmd_postfix": ") ",
     "delete_cmd_prefix": "rm(",
     "library": "var_list.r",
     "varRefreshCmd": "cat(var_dic_list()) "
    }
   },
   "types_to_exclude": [
    "module",
    "function",
    "builtin_function_or_method",
    "instance",
    "_Feature"
   ],
   "window_display": false
  }
 },
 "nbformat": 4,
 "nbformat_minor": 5
}
